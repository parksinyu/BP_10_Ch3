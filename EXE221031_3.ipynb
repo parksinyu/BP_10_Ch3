{
  "nbformat": 4,
  "nbformat_minor": 0,
  "metadata": {
    "colab": {
      "provenance": [],
      "collapsed_sections": [],
      "authorship_tag": "ABX9TyN+Uao3DNrf3LSNBSv5i0wg",
      "include_colab_link": true
    },
    "kernelspec": {
      "name": "python3",
      "display_name": "Python 3"
    },
    "language_info": {
      "name": "python"
    }
  },
  "cells": [
    {
      "cell_type": "markdown",
      "metadata": {
        "id": "view-in-github",
        "colab_type": "text"
      },
      "source": [
        "<a href=\"https://colab.research.google.com/github/parksinyu/BP_10_Ch3/blob/main/EXE221031_3.ipynb\" target=\"_parent\"><img src=\"https://colab.research.google.com/assets/colab-badge.svg\" alt=\"Open In Colab\"/></a>"
      ]
    },
    {
      "cell_type": "code",
      "execution_count": null,
      "metadata": {
        "colab": {
          "base_uri": "https://localhost:8080/"
        },
        "id": "KvcDZBNd0iWU",
        "outputId": "b6e010ef-d3e0-4c3c-9d33-80758d5943f5"
      },
      "outputs": [
        {
          "output_type": "stream",
          "name": "stdout",
          "text": [
            "X의 값을 입력하시오.: 10\n",
            "Y의 값을 입력하시오.: 20\n",
            "x와 y의 합은:  30\n",
            "x와 y의 차는:  -10\n",
            "x와 y의 곱은:  200\n",
            "x와 y의 평균은:  15.0\n",
            "x와 y의 큰수는:  20\n",
            "x와 y의 작은수는:  10\n"
          ]
        }
      ],
      "source": [
        "x = int(input(\"X의 값을 입력하시오.: \"))\n",
        "y = int(input(\"Y의 값을 입력하시오.: \"))\n",
        "\n",
        "print(\"x와 y의 합은: \", x + y)\n",
        "print(\"x와 y의 차는: \", x - y)\n",
        "print(\"x와 y의 곱은: \", x * y)\n",
        "print(\"x와 y의 평균은: \", (x + y)/2)\n",
        "print(\"x와 y의 큰수는: \",max(x,y))\n",
        "print(\"x와 y의 작은수는: \",min(x,y))"
      ]
    },
    {
      "cell_type": "code",
      "source": [
        "r = float(input(\"r값을 입력하시오: \")) #변수 r의 값을 사용자로부터 받는다. float형으로\n",
        "h = float(input(\"h값을 입력하시오: \")) #변수 h의 값을 사용자로부터 받는다. float형으로\n",
        "vol = 3.141592 * r**2 * h\n",
        "print(\"원기둥의 부피는:\", vol, \"입니다\")"
      ],
      "metadata": {
        "colab": {
          "base_uri": "https://localhost:8080/"
        },
        "id": "ReeAIfzB2O1N",
        "outputId": "efcd5237-0e89-4b2c-f9b7-3fc3e6182b45"
      },
      "execution_count": null,
      "outputs": [
        {
          "output_type": "stream",
          "name": "stdout",
          "text": [
            "r값을 입력하시오: 10\n",
            "h값을 입력하시오: 100\n",
            "원기둥의 부피는: 31415.92 입니다\n"
          ]
        }
      ]
    },
    {
      "cell_type": "code",
      "source": [
        "number = int(input(\"정수를 입력하시오.: \"))\n",
        "sum = 0               #변수 sum을 0으로 초기화한다.\n",
        "sum = sum + number % 10\n",
        "number = number // 10\n",
        "sum = sum + number % 10\n",
        "number = number // 10\n",
        "sum = sum + number % 10\n",
        "number = number // 10\n",
        "sum = sum + number % 10\n",
        "number = number // 10\n",
        "print(\"자리수의 합: \", str(sum))\n"
      ],
      "metadata": {
        "colab": {
          "base_uri": "https://localhost:8080/"
        },
        "id": "t1OlTMOt3vRo",
        "outputId": "54d40673-ff8e-4ab6-c412-d0a40febba16"
      },
      "execution_count": null,
      "outputs": [
        {
          "output_type": "stream",
          "name": "stdout",
          "text": [
            "정수를 입력하시오.: 1234\n",
            "자리수의 합:  10\n"
          ]
        }
      ]
    },
    {
      "cell_type": "code",
      "source": [
        "x1 = int(input(\"x1의 값: \"))\n",
        "y1 = int(input(\"y1의 값: \"))\n",
        "\n",
        "x2 = int(input(\"x2의 값: \"))\n",
        "y2 = int(input(\"y2의 값: \"))\n",
        "dist = ((x2-x1)**2 + (y2-y1)**2)**0.5\n",
        "print(\"두 점 사이의 거리=\", dist, \"입니다\")"
      ],
      "metadata": {
        "colab": {
          "base_uri": "https://localhost:8080/"
        },
        "id": "gtI1hrYt74Hp",
        "outputId": "c4ebcdfe-a96b-4c4f-83a0-bd17d7a6f750"
      },
      "execution_count": null,
      "outputs": [
        {
          "output_type": "stream",
          "name": "stdout",
          "text": [
            "x1의 값: 0\n",
            "y1의 값: 0\n",
            "x2의 값: 100\n",
            "y2의 값: 100\n",
            "두 점 사이의 거리= 141.4213562373095 입니다\n"
          ]
        }
      ]
    },
    {
      "cell_type": "code",
      "source": [
        "#IDLE\n",
        ">>> import math\n",
        ">>> x1 = int(input(\"x1: \"))\n",
        "x1: 0\n",
        ">>> y1 = int(input(\"y1: \"))\n",
        "y1: 0\n",
        ">>> x2 = int(input(\"x2: \"))\n",
        "x2: 100\n",
        ">>> y2 = int(input(\"y2: \"))\n",
        "y2: 100\n",
        ">>> dist = math.sqrt((x2-x1)**2 + (y2-y1)**2)\n",
        ">>> print(\"두점사이의 거리는 =\", dist)\n",
        "두점사이의 거리는 = 141.4213562373095"
      ],
      "metadata": {
        "id": "hKKQ0cvmHzTX"
      },
      "execution_count": null,
      "outputs": []
    },
    {
      "cell_type": "code",
      "source": [
        "import turtle\n",
        "t = turtle.Turtle()\n",
        "t.shape(\"turtle\")\n",
        "\n",
        "t.left(45)\n",
        "t.forward(141)\n",
        "\n",
        "t.setheading(0)\n",
        "t.goto(0, 0)\n",
        "t.forward(100)\n",
        "t.left(90)\n",
        "t.forward(100)\n",
        "t._screen.exitonclick()"
      ],
      "metadata": {
        "id": "4N8Owece9Dj9"
      },
      "execution_count": null,
      "outputs": []
    },
    {
      "cell_type": "code",
      "source": [
        "import time\n",
        "fsecond=time.time()\n",
        "total_sec = int(fsecond)\n",
        "total_min = total_sec // 60\n",
        "minute = total_min % 60\n",
        "total_hour = total_min // 60\n",
        "hour = total_hour % 24\n",
        "\n",
        "print(\"현재시각은 (영국 그리니치 표준시각): \", str(hour) + \"시\"+ str(minute) + \"분\")"
      ],
      "metadata": {
        "colab": {
          "base_uri": "https://localhost:8080/"
        },
        "id": "2x9KzuW-F4OA",
        "outputId": "6420fb35-cf01-42bf-e4b6-1f8e8134b002"
      },
      "execution_count": null,
      "outputs": [
        {
          "output_type": "stream",
          "name": "stdout",
          "text": [
            "현재시각은 (영국 그리니치 표준시각):  3시48분\n"
          ]
        }
      ]
    }
  ]
}